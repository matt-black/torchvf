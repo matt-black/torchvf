{
 "cells": [
  {
   "cell_type": "code",
   "execution_count": null,
   "id": "compact-party",
   "metadata": {},
   "outputs": [],
   "source": [
    "from torch.utils.data import DataLoader\n",
    "import torch.nn.functional as F\n",
    "import torch.optim as optim \n",
    "import torch.nn as nn\n",
    "import torch\n",
    "\n",
    "from tqdm.notebook import trange, tqdm\n",
    "import matplotlib.pyplot as plt\n",
    "import pandas as pd\n",
    "import numpy as np\n",
    "import torchvision\n",
    "import math\n",
    "import time\n",
    "import cv2 \n",
    "import sys\n",
    "import os\n",
    "\n",
    "sys.path.insert(0, \"../torchvf/\")\n",
    "from dataloaders import *\n",
    "from transforms import *\n",
    "from numerics import *\n",
    "from losses import *\n",
    "from utils import *\n",
    "\n",
    "from sklearn.cluster import DBSCAN"
   ]
  },
  {
   "cell_type": "code",
   "execution_count": null,
   "id": "operating-belarus",
   "metadata": {},
   "outputs": [],
   "source": [
    "DATA_DIR  = \"../data/bpcis/\"\n",
    "VF_DELIM  = \"_vf_10_11\"\n",
    "DEVICE    = \"cuda:0\""
   ]
  },
  {
   "cell_type": "code",
   "execution_count": null,
   "id": "8f61a170-2869-470b-b950-f2a53dc761da",
   "metadata": {},
   "outputs": [],
   "source": [
    "def visualize(image, mask, vf):\n",
    "    fig, (ax0, ax1, ax2, ax3, ax4) = plt.subplots(1, 5, figsize = (200, 40))\n",
    "    ax0.imshow(image)\n",
    "    ax1.imshow(vf[0])\n",
    "    ax2.imshow(vf[1])\n",
    "    ax3.imshow(np.linalg.norm(vf, axis = 0))\n",
    "    ax4.imshow(mask)\n",
    "    plt.show()"
   ]
  },
  {
   "cell_type": "code",
   "execution_count": null,
   "id": "written-arizona",
   "metadata": {},
   "outputs": [],
   "source": [
    "train_dataset = BPCIS(\n",
    "    DATA_DIR, \n",
    "    split = \"bact_fluor_test\", \n",
    "    transforms = None\n",
    ")\n",
    "train_dataloader = DataLoader(\n",
    "    train_dataset, \n",
    "    batch_size = 1, \n",
    "    drop_last = False,\n",
    "    shuffle = False,\n",
    ")"
   ]
  },
  {
   "cell_type": "code",
   "execution_count": null,
   "id": "d2594a9d-f00c-4486-9e91-d35a9b8d5b48",
   "metadata": {},
   "outputs": [],
   "source": [
    "test_dataset = BPCIS(\n",
    "    DATA_DIR, \n",
    "    split = \"bact_fluor_test\",  \n",
    "    transforms = None\n",
    ")\n",
    "test_dataloader = DataLoader(\n",
    "    test_dataset, \n",
    "    batch_size = 1, \n",
    "    drop_last = False,\n",
    "    shuffle = False,\n",
    ")"
   ]
  },
  {
   "cell_type": "code",
   "execution_count": null,
   "id": "sunset-viewer",
   "metadata": {},
   "outputs": [],
   "source": [
    "train_save_dir = train_dataset.split_dir\n",
    "train_save_dir"
   ]
  },
  {
   "cell_type": "code",
   "execution_count": null,
   "id": "grand-board",
   "metadata": {},
   "outputs": [],
   "source": [
    "alpha = 10\n",
    "kernel_size = 11\n",
    "for step, (image, mask) in enumerate(tqdm(train_dataloader)):\n",
    "    image = image.to(DEVICE).float()\n",
    "    mask  = mask.to(DEVICE).int()\n",
    "\n",
    "    _, _, H, W = image.shape\n",
    "\n",
    "    vf = compute_vector_field(\n",
    "        mask[0], \n",
    "        kernel_size, \n",
    "        alpha = alpha,\n",
    "        device = \"cuda\"\n",
    "    )\n",
    "\n",
    "    #semantic = mask > 0\n",
    "    #f = build_f(vf, mode = \"bilinear\")\n",
    "    #init_values = init_values_semantic(semantic, device = \"cpu\")\n",
    "    #solutions = ivp_solver_single(f, init_values, dx = 0.25, n_steps = 8, solver = \"euler\")\n",
    "    #fig = plt.figure(figsize = (20, 20))\n",
    "    #plt.scatter(x = solutions[0], y = solutions[1], s = 0.05)\n",
    "    #plt.show()\n",
    "        \n",
    "    image = image.cpu().numpy()[0][0].astype(np.uint8)\n",
    "    mask  = mask.cpu().numpy()[0][0].astype(np.uint16)\n",
    "    vf    = vf.cpu().numpy().astype(np.float32)\n",
    "    \n",
    "    #visualize(image, mask, vf)\n",
    "    #break\n",
    "    \n",
    "    old_filename = train_dataset.imgs[step]\n",
    "   \n",
    "    new_vf_filename = os.path.basename(old_filename).replace(\".tif\", f\"{VF_DELIM}.npy\")\n",
    "    new_vf_dir      = os.path.join(train_save_dir, new_vf_filename)\n",
    "    \n",
    "    new_image_dir = os.path.join(train_save_dir, os.path.basename(old_filename))\n",
    "    new_mask_dir  = new_image_dir.replace(\".tif\", f\"_masks.tif\")\n",
    "\n",
    "    #print(image.shape)\n",
    "    #print(mask.shape)\n",
    "    #print(vf.shape)\n",
    "    #print(new_vf_dir)\n",
    "    #print(new_image_dir)\n",
    "    #print(new_mask_dir) \n",
    "    #break\n",
    "\n",
    "    np.save(new_vf_dir, vf)\n",
    "    #cv2.imwrite(new_mask_dir, mask)\n",
    "    #cv2.imwrite(new_image_dir, image)"
   ]
  },
  {
   "cell_type": "code",
   "execution_count": null,
   "id": "bottom-eligibility",
   "metadata": {},
   "outputs": [],
   "source": []
  },
  {
   "cell_type": "code",
   "execution_count": null,
   "id": "9630bec4-e660-47cc-a835-0c931b58c644",
   "metadata": {},
   "outputs": [],
   "source": []
  }
 ],
 "metadata": {
  "kernelspec": {
   "display_name": "Python 3 (ipykernel)",
   "language": "python",
   "name": "python3"
  },
  "language_info": {
   "codemirror_mode": {
    "name": "ipython",
    "version": 3
   },
   "file_extension": ".py",
   "mimetype": "text/x-python",
   "name": "python",
   "nbconvert_exporter": "python",
   "pygments_lexer": "ipython3",
   "version": "3.10.13"
  }
 },
 "nbformat": 4,
 "nbformat_minor": 5
}
